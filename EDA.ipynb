{
 "cells": [
  {
   "cell_type": "code",
   "execution_count": null,
   "id": "9ac987ef-6b61-4d41-bacf-84d7bb642f0e",
   "metadata": {},
   "outputs": [],
   "source": [
    "import pandas as pd"
   ]
  },
  {
   "cell_type": "code",
   "execution_count": null,
   "id": "8110fc44-a473-4ac8-a2ab-9b9893d58c51",
   "metadata": {},
   "outputs": [],
   "source": [
    "#Dataframes: Incidentes del 2017 al 2019\n",
    "df_2017 = pd.read_csv('data/incidentes-2017.csv')\n",
    "df_2018 = pd.read_csv('data/incidentes-2018.csv')\n",
    "df_2019 = pd.read_csv('data/incidentes-2019.csv')"
   ]
  },
  {
   "cell_type": "code",
   "execution_count": null,
   "id": "9375f9e7-3a48-40df-84b8-a317da3dbaab",
   "metadata": {},
   "outputs": [],
   "source": [
    "#Verificar las columnas de cada dataframe\n",
    "print(df_2017.columns)\n",
    "print(df_2018.columns)\n",
    "print(df_2019.columns)"
   ]
  },
  {
   "cell_type": "code",
   "execution_count": null,
   "id": "44a7397f-48a4-48a9-8705-934e94b10eca",
   "metadata": {},
   "outputs": [],
   "source": [
    "#Mismas columnas. Es posible combinar los 3 dataframes\n",
    "df = pd.concat([df_2017, df_2018, df_2019], ignore_index=True)"
   ]
  },
  {
   "cell_type": "code",
   "execution_count": null,
   "id": "afdff5b1-d2ab-4f6e-8c90-8db6bef72215",
   "metadata": {},
   "outputs": [],
   "source": [
    "#Verificar cambios\n",
    "df.head()"
   ]
  },
  {
   "cell_type": "code",
   "execution_count": null,
   "id": "1654c534-401c-4fbf-9146-df69b1d1ecec",
   "metadata": {},
   "outputs": [],
   "source": [
    "df.tail()"
   ]
  },
  {
   "cell_type": "code",
   "execution_count": null,
   "id": "8a5cf93c-6245-4111-b118-6f694cc631ce",
   "metadata": {},
   "outputs": [],
   "source": [
    "#Verificar los tipos de dato\n",
    "df.dtypes"
   ]
  },
  {
   "cell_type": "code",
   "execution_count": null,
   "id": "afb9faec-3676-4d90-a317-9e20960ce7dc",
   "metadata": {},
   "outputs": [],
   "source": [
    "#Sumatoria de valores nulos por columna\n",
    "df.isna().sum()"
   ]
  },
  {
   "cell_type": "code",
   "execution_count": null,
   "id": "ba1f0654-b2ad-415e-9496-3f8dc7c969f1",
   "metadata": {},
   "outputs": [],
   "source": [
    "#Ver las dimensiones del dataset\n",
    "df.shape"
   ]
  },
  {
   "cell_type": "code",
   "execution_count": null,
   "id": "88126357-cbe2-4371-8c63-b87045871048",
   "metadata": {},
   "outputs": [],
   "source": [
    "#Eliminando valores nulos\n",
    "df = df.dropna()"
   ]
  },
  {
   "cell_type": "code",
   "execution_count": null,
   "id": "05c9fc69-34d8-4208-99a6-8a6c011e8f4d",
   "metadata": {},
   "outputs": [],
   "source": [
    "#Verificando\n",
    "df.isna().sum()"
   ]
  },
  {
   "cell_type": "code",
   "execution_count": null,
   "id": "43052ee8-195b-47e0-a188-d8348593bcce",
   "metadata": {},
   "outputs": [],
   "source": [
    "#Eliminar columnas que no se utilizaran\n",
    "df = df.drop(columns = ['latitud', 'longitud', 'geopoint'])"
   ]
  },
  {
   "cell_type": "code",
   "execution_count": null,
   "id": "72dfd453-9530-41b6-bbd0-dc1cf36fa5fd",
   "metadata": {},
   "outputs": [],
   "source": [
    "#Valores por columna\n",
    "df['delegacion_inicio'].unique()"
   ]
  },
  {
   "cell_type": "code",
   "execution_count": null,
   "id": "ed9efca2-428e-4a71-90d8-12b6d202a9be",
   "metadata": {},
   "outputs": [],
   "source": [
    "df['delegacion_cierre'].unique()"
   ]
  },
  {
   "cell_type": "code",
   "execution_count": null,
   "id": "95808df4-2d77-4698-b689-1a8aa2052b46",
   "metadata": {},
   "outputs": [],
   "source": [
    "df['incidente_c4'].unique()"
   ]
  },
  {
   "cell_type": "code",
   "execution_count": null,
   "id": "26b6540c-7805-49a8-92cd-8b8a48f7505a",
   "metadata": {},
   "outputs": [],
   "source": [
    "df['clas_con_f_alarma'].unique()"
   ]
  },
  {
   "cell_type": "code",
   "execution_count": null,
   "id": "d20da22b-a762-4d46-8b79-63186b12f83b",
   "metadata": {},
   "outputs": [],
   "source": [
    "df['tipo_entrada'].unique()"
   ]
  },
  {
   "cell_type": "code",
   "execution_count": null,
   "id": "d76efb57-32aa-4bc8-a697-ce9e344c4d20",
   "metadata": {},
   "outputs": [],
   "source": [
    "df['codigo_cierre'].unique()"
   ]
  },
  {
   "cell_type": "code",
   "execution_count": null,
   "id": "0ef1c110-3983-495a-a26c-784d8d021ab8",
   "metadata": {},
   "outputs": [],
   "source": [
    "df['mes'].unique()"
   ]
  },
  {
   "cell_type": "code",
   "execution_count": null,
   "id": "738f392e-22a3-4b84-ac20-d0bcc9cef31a",
   "metadata": {},
   "outputs": [],
   "source": [
    "#Corregir los nombres de las delegaciones\n",
    "df['delegacion_inicio'] = df['delegacion_inicio'].apply(lambda x: x.title())\n",
    "df['delegacion_cierre'] = df['delegacion_cierre'].apply(lambda x: x.title())"
   ]
  },
  {
   "cell_type": "code",
   "execution_count": null,
   "id": "57479139-a414-46a2-ab23-d9c1e5231fbe",
   "metadata": {},
   "outputs": [],
   "source": [
    "df.head()"
   ]
  },
  {
   "cell_type": "code",
   "execution_count": null,
   "id": "82442992-4036-4d79-80f9-80c949d62034",
   "metadata": {},
   "outputs": [],
   "source": [
    "#Corregir el tipo de entrada y el codigo de clasificacion\n",
    "df['clas_con_f_alarma'] = df['clas_con_f_alarma'].apply(lambda x: x.title())\n",
    "df['tipo_entrada'] = df['tipo_entrada'].apply(lambda x: x.title())"
   ]
  },
  {
   "cell_type": "code",
   "execution_count": null,
   "id": "81f8f5f6-689f-4863-8fa9-2f62f191143e",
   "metadata": {},
   "outputs": [],
   "source": [
    "df.head()"
   ]
  },
  {
   "cell_type": "code",
   "execution_count": null,
   "id": "8e769e5a-79af-40db-91cb-5ecf07bfae00",
   "metadata": {},
   "outputs": [],
   "source": [
    "#Mapear el codigo de cierre\n",
    "mapeo_codigo_cierre = {\n",
    "    '(D)': 'D',\n",
    "    '(N)': 'N',\n",
    "    '(A)': 'A',\n",
    "    '(F)': 'F',\n",
    "    '(I)': 'I'\n",
    "}\n",
    "\n",
    "def mapear_codigo_cierre(row):\n",
    "    for key, value in mapeo_codigo_cierre.items():\n",
    "        if row.startswith(key):\n",
    "            return value\n",
    "    return row #Si no coincide con el codigo\n",
    "\n",
    "df['codigo_cierre'] = df['codigo_cierre'].apply(mapear_codigo_cierre)\n",
    "df.head()"
   ]
  },
  {
   "cell_type": "code",
   "execution_count": null,
   "id": "11b415b3-3b2b-4d53-a67f-c82b1518fa45",
   "metadata": {},
   "outputs": [],
   "source": [
    "#Mapear y abreviar las descripciones del incidente\n",
    "mapeo_desc = {\n",
    "    'accidente-choque sin lesionados' : 'AC-CSL',\n",
    "    'accidente-choque con lesionados' : 'AC-CCL', \n",
    "    'lesionado-atropellado' : 'L-A',\n",
    "    'accidente-motociclista' : 'AC-MC', \n",
    "    'accidente-volcadura' : 'AC-VL',\n",
    "    'accidente-persona atrapada / desbarrancada' : 'AC-PA',\n",
    "    'accidente-vehiculo desbarrancado' : 'AC-VD',\n",
    "    'accidente-choque con prensados' : 'AC-PR', \n",
    "    'accidente-otros' : 'AC-OT',\n",
    "    'cadáver-atropellado' : 'CA-AT', \n",
    "    'cadáver-accidente automovilístico' : 'CA-AA',\n",
    "    'accidente-vehiculo atrapado' : 'AC-VA', \n",
    "    'accidente-ferroviario' : 'AC-FR',\n",
    "    'detención ciudadana-atropellado' : 'DC-AT',\n",
    "    'detención ciudadana-accidente automovilístico' : 'DC-AA',\n",
    "    'sismo-choque sin lesionados' : 'SI-CSL', \n",
    "    'sismo-persona atropellada' : 'SI-AT',\n",
    "    'sismo-choque con lesionados' : 'SI-CCL', \n",
    "    'sismo-choque con prensados' : 'SI-PR',\n",
    "    'accidente-ciclista' : 'AC-CI', \n",
    "    'accidente-vehículo atrapado-varado' : 'AC-VAV',\n",
    "    'accidente-monopatín' : 'AC-MP',\n",
    "    'Detención ciudadana-accidente automovilístico' : 'DC-AA'       \n",
    "}\n",
    "\n",
    "df['incidente_c4'] = df['incidente_c4'].replace(mapeo_desc)\n",
    "df.head()"
   ]
  },
  {
   "cell_type": "code",
   "execution_count": null,
   "id": "f77127e7-97df-4e9f-b87e-995a440c66b1",
   "metadata": {},
   "outputs": [],
   "source": [
    "#Convertir las columnas a tipos adecuados\n",
    "df.hora_creacion = pd.to_datetime(df.hora_creacion)\n",
    "df.fecha_creacion = pd.to_datetime(df.fecha_creacion, format=\"mixed\")\n",
    "df.fecha_cierre = pd.to_datetime(df.fecha_cierre, format=\"mixed\")\n",
    "df.hora_cierre = pd.to_datetime(df.hora_cierre)\n",
    "df.año_cierre = pd.to_numeric(df.año_cierre)"
   ]
  },
  {
   "cell_type": "code",
   "execution_count": null,
   "id": "04056930-0efd-4954-8de4-a4e74b25e9d5",
   "metadata": {},
   "outputs": [],
   "source": [
    "df.dtypes"
   ]
  },
  {
   "cell_type": "code",
   "execution_count": null,
   "id": "309bc330-45c3-469e-8ed4-d9b2e284a3f8",
   "metadata": {},
   "outputs": [],
   "source": [
    "#Dividir dataset en 2\n",
    "df1 = df.iloc[:len(df)//2]  # Primer mitad\n",
    "df2 = df.iloc[len(df)//2:]  # Segunda mitad\n",
    "\n",
    "# Guardar los DataFrames en archivos CSV separados\n",
    "df1.to_csv('data/parte1.csv', index=False)\n",
    "df2.to_csv('data/parte2.csv', index=False)"
   ]
  }
 ],
 "metadata": {
  "kernelspec": {
   "display_name": "Python 3 (ipykernel)",
   "language": "python",
   "name": "python3"
  },
  "language_info": {
   "codemirror_mode": {
    "name": "ipython",
    "version": 3
   },
   "file_extension": ".py",
   "mimetype": "text/x-python",
   "name": "python",
   "nbconvert_exporter": "python",
   "pygments_lexer": "ipython3",
   "version": "3.13.0"
  }
 },
 "nbformat": 4,
 "nbformat_minor": 5
}
